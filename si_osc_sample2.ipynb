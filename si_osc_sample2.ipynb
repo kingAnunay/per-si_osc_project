{
  "nbformat": 4,
  "nbformat_minor": 0,
  "metadata": {
    "colab": {
      "name": "si_osc_sample2.ipynb",
      "provenance": [],
      "authorship_tag": "ABX9TyP914LCqY/ytJZIqvVjQVD1"
    },
    "kernelspec": {
      "name": "python3",
      "display_name": "Python 3"
    }
  },
  "cells": [
    {
      "cell_type": "code",
      "metadata": {
        "id": "OpjQeINnBlsJ"
      },
      "source": [
        "!apt install octave"
      ],
      "execution_count": null,
      "outputs": []
    },
    {
      "cell_type": "code",
      "metadata": {
        "id": "CnhIOt1qBoTp"
      },
      "source": [
        "!pip install oct2py"
      ],
      "execution_count": null,
      "outputs": []
    },
    {
      "cell_type": "code",
      "metadata": {
        "id": "z0XroA9eBwl0"
      },
      "source": [
        "from oct2py import octave"
      ],
      "execution_count": 3,
      "outputs": []
    },
    {
      "cell_type": "code",
      "metadata": {
        "id": "h2UD-4KeBz2s"
      },
      "source": [
        "from math import pi as π\n",
        "from numpy import sin as sin"
      ],
      "execution_count": 4,
      "outputs": []
    },
    {
      "cell_type": "code",
      "metadata": {
        "id": "6L1Z90LKCCI_"
      },
      "source": [
        "import numpy as np\n",
        "import matplotlib.pyplot as plt"
      ],
      "execution_count": 5,
      "outputs": []
    },
    {
      "cell_type": "code",
      "metadata": {
        "colab": {
          "base_uri": "https://localhost:8080/"
        },
        "id": "GCv9c304CL76",
        "outputId": "baab6749-111d-4330-e69b-a13567456cec"
      },
      "source": [
        "sam = np.arange(0,2,0.01)\n",
        "sam"
      ],
      "execution_count": 7,
      "outputs": [
        {
          "output_type": "execute_result",
          "data": {
            "text/plain": [
              "array([0.  , 0.01, 0.02, 0.03, 0.04, 0.05, 0.06, 0.07, 0.08, 0.09, 0.1 ,\n",
              "       0.11, 0.12, 0.13, 0.14, 0.15, 0.16, 0.17, 0.18, 0.19, 0.2 , 0.21,\n",
              "       0.22, 0.23, 0.24, 0.25, 0.26, 0.27, 0.28, 0.29, 0.3 , 0.31, 0.32,\n",
              "       0.33, 0.34, 0.35, 0.36, 0.37, 0.38, 0.39, 0.4 , 0.41, 0.42, 0.43,\n",
              "       0.44, 0.45, 0.46, 0.47, 0.48, 0.49, 0.5 , 0.51, 0.52, 0.53, 0.54,\n",
              "       0.55, 0.56, 0.57, 0.58, 0.59, 0.6 , 0.61, 0.62, 0.63, 0.64, 0.65,\n",
              "       0.66, 0.67, 0.68, 0.69, 0.7 , 0.71, 0.72, 0.73, 0.74, 0.75, 0.76,\n",
              "       0.77, 0.78, 0.79, 0.8 , 0.81, 0.82, 0.83, 0.84, 0.85, 0.86, 0.87,\n",
              "       0.88, 0.89, 0.9 , 0.91, 0.92, 0.93, 0.94, 0.95, 0.96, 0.97, 0.98,\n",
              "       0.99, 1.  , 1.01, 1.02, 1.03, 1.04, 1.05, 1.06, 1.07, 1.08, 1.09,\n",
              "       1.1 , 1.11, 1.12, 1.13, 1.14, 1.15, 1.16, 1.17, 1.18, 1.19, 1.2 ,\n",
              "       1.21, 1.22, 1.23, 1.24, 1.25, 1.26, 1.27, 1.28, 1.29, 1.3 , 1.31,\n",
              "       1.32, 1.33, 1.34, 1.35, 1.36, 1.37, 1.38, 1.39, 1.4 , 1.41, 1.42,\n",
              "       1.43, 1.44, 1.45, 1.46, 1.47, 1.48, 1.49, 1.5 , 1.51, 1.52, 1.53,\n",
              "       1.54, 1.55, 1.56, 1.57, 1.58, 1.59, 1.6 , 1.61, 1.62, 1.63, 1.64,\n",
              "       1.65, 1.66, 1.67, 1.68, 1.69, 1.7 , 1.71, 1.72, 1.73, 1.74, 1.75,\n",
              "       1.76, 1.77, 1.78, 1.79, 1.8 , 1.81, 1.82, 1.83, 1.84, 1.85, 1.86,\n",
              "       1.87, 1.88, 1.89, 1.9 , 1.91, 1.92, 1.93, 1.94, 1.95, 1.96, 1.97,\n",
              "       1.98, 1.99])"
            ]
          },
          "metadata": {
            "tags": []
          },
          "execution_count": 7
        }
      ]
    },
    {
      "cell_type": "code",
      "metadata": {
        "colab": {
          "base_uri": "https://localhost:8080/"
        },
        "id": "JYjuwFLhCVxQ",
        "outputId": "83cf926c-408c-49ad-dd2c-96280e3a2d7b"
      },
      "source": [
        "z = sin(π*sam)\n",
        "z"
      ],
      "execution_count": 9,
      "outputs": [
        {
          "output_type": "execute_result",
          "data": {
            "text/plain": [
              "array([ 0.00000000e+00,  3.14107591e-02,  6.27905195e-02,  9.41083133e-02,\n",
              "        1.25333234e-01,  1.56434465e-01,  1.87381315e-01,  2.18143241e-01,\n",
              "        2.48689887e-01,  2.78991106e-01,  3.09016994e-01,  3.38737920e-01,\n",
              "        3.68124553e-01,  3.97147891e-01,  4.25779292e-01,  4.53990500e-01,\n",
              "        4.81753674e-01,  5.09041416e-01,  5.35826795e-01,  5.62083378e-01,\n",
              "        5.87785252e-01,  6.12907054e-01,  6.37423990e-01,  6.61311865e-01,\n",
              "        6.84547106e-01,  7.07106781e-01,  7.28968627e-01,  7.50111070e-01,\n",
              "        7.70513243e-01,  7.90155012e-01,  8.09016994e-01,  8.27080574e-01,\n",
              "        8.44327926e-01,  8.60742027e-01,  8.76306680e-01,  8.91006524e-01,\n",
              "        9.04827052e-01,  9.17754626e-01,  9.29776486e-01,  9.40880769e-01,\n",
              "        9.51056516e-01,  9.60293686e-01,  9.68583161e-01,  9.75916762e-01,\n",
              "        9.82287251e-01,  9.87688341e-01,  9.92114701e-01,  9.95561965e-01,\n",
              "        9.98026728e-01,  9.99506560e-01,  1.00000000e+00,  9.99506560e-01,\n",
              "        9.98026728e-01,  9.95561965e-01,  9.92114701e-01,  9.87688341e-01,\n",
              "        9.82287251e-01,  9.75916762e-01,  9.68583161e-01,  9.60293686e-01,\n",
              "        9.51056516e-01,  9.40880769e-01,  9.29776486e-01,  9.17754626e-01,\n",
              "        9.04827052e-01,  8.91006524e-01,  8.76306680e-01,  8.60742027e-01,\n",
              "        8.44327926e-01,  8.27080574e-01,  8.09016994e-01,  7.90155012e-01,\n",
              "        7.70513243e-01,  7.50111070e-01,  7.28968627e-01,  7.07106781e-01,\n",
              "        6.84547106e-01,  6.61311865e-01,  6.37423990e-01,  6.12907054e-01,\n",
              "        5.87785252e-01,  5.62083378e-01,  5.35826795e-01,  5.09041416e-01,\n",
              "        4.81753674e-01,  4.53990500e-01,  4.25779292e-01,  3.97147891e-01,\n",
              "        3.68124553e-01,  3.38737920e-01,  3.09016994e-01,  2.78991106e-01,\n",
              "        2.48689887e-01,  2.18143241e-01,  1.87381315e-01,  1.56434465e-01,\n",
              "        1.25333234e-01,  9.41083133e-02,  6.27905195e-02,  3.14107591e-02,\n",
              "        1.22464680e-16, -3.14107591e-02, -6.27905195e-02, -9.41083133e-02,\n",
              "       -1.25333234e-01, -1.56434465e-01, -1.87381315e-01, -2.18143241e-01,\n",
              "       -2.48689887e-01, -2.78991106e-01, -3.09016994e-01, -3.38737920e-01,\n",
              "       -3.68124553e-01, -3.97147891e-01, -4.25779292e-01, -4.53990500e-01,\n",
              "       -4.81753674e-01, -5.09041416e-01, -5.35826795e-01, -5.62083378e-01,\n",
              "       -5.87785252e-01, -6.12907054e-01, -6.37423990e-01, -6.61311865e-01,\n",
              "       -6.84547106e-01, -7.07106781e-01, -7.28968627e-01, -7.50111070e-01,\n",
              "       -7.70513243e-01, -7.90155012e-01, -8.09016994e-01, -8.27080574e-01,\n",
              "       -8.44327926e-01, -8.60742027e-01, -8.76306680e-01, -8.91006524e-01,\n",
              "       -9.04827052e-01, -9.17754626e-01, -9.29776486e-01, -9.40880769e-01,\n",
              "       -9.51056516e-01, -9.60293686e-01, -9.68583161e-01, -9.75916762e-01,\n",
              "       -9.82287251e-01, -9.87688341e-01, -9.92114701e-01, -9.95561965e-01,\n",
              "       -9.98026728e-01, -9.99506560e-01, -1.00000000e+00, -9.99506560e-01,\n",
              "       -9.98026728e-01, -9.95561965e-01, -9.92114701e-01, -9.87688341e-01,\n",
              "       -9.82287251e-01, -9.75916762e-01, -9.68583161e-01, -9.60293686e-01,\n",
              "       -9.51056516e-01, -9.40880769e-01, -9.29776486e-01, -9.17754626e-01,\n",
              "       -9.04827052e-01, -8.91006524e-01, -8.76306680e-01, -8.60742027e-01,\n",
              "       -8.44327926e-01, -8.27080574e-01, -8.09016994e-01, -7.90155012e-01,\n",
              "       -7.70513243e-01, -7.50111070e-01, -7.28968627e-01, -7.07106781e-01,\n",
              "       -6.84547106e-01, -6.61311865e-01, -6.37423990e-01, -6.12907054e-01,\n",
              "       -5.87785252e-01, -5.62083378e-01, -5.35826795e-01, -5.09041416e-01,\n",
              "       -4.81753674e-01, -4.53990500e-01, -4.25779292e-01, -3.97147891e-01,\n",
              "       -3.68124553e-01, -3.38737920e-01, -3.09016994e-01, -2.78991106e-01,\n",
              "       -2.48689887e-01, -2.18143241e-01, -1.87381315e-01, -1.56434465e-01,\n",
              "       -1.25333234e-01, -9.41083133e-02, -6.27905195e-02, -3.14107591e-02])"
            ]
          },
          "metadata": {
            "tags": []
          },
          "execution_count": 9
        }
      ]
    },
    {
      "cell_type": "code",
      "metadata": {
        "colab": {
          "base_uri": "https://localhost:8080/",
          "height": 282
        },
        "id": "L3qcd8sxClMJ",
        "outputId": "77bb9922-c26c-4ae0-96d4-02957f485b95"
      },
      "source": [
        "plt.plot(z)"
      ],
      "execution_count": 10,
      "outputs": [
        {
          "output_type": "execute_result",
          "data": {
            "text/plain": [
              "[<matplotlib.lines.Line2D at 0x7fb3e2b453c8>]"
            ]
          },
          "metadata": {
            "tags": []
          },
          "execution_count": 10
        },
        {
          "output_type": "display_data",
          "data": {
            "image/png": "[encoded data removed]",
            "text/plain": [
              "<Figure size 432x288 with 1 Axes>"
            ]
          },
          "metadata": {
            "tags": [],
            "needs_background": "light"
          }
        }
      ]
    },
    {
      "cell_type": "code",
      "metadata": {
        "id": "E634uYcoCtWf"
      },
      "source": [
        ""
      ],
      "execution_count": null,
      "outputs": []
    }
  ]
}