{
  "nbformat": 4,
  "nbformat_minor": 0,
  "metadata": {
    "colab": {
      "name": "sin_osc example",
      "provenance": [],
      "authorship_tag": "ABX9TyM5Elc/H9+j1NkndvgJAf8p"
    },
    "kernelspec": {
      "name": "python3",
      "display_name": "Python 3"
    }
  },
  "cells": [
    {
      "cell_type": "code",
      "metadata": {
        "id": "QCHOGDWRrj9Q"
      },
      "source": [
        "!apt install octave"
      ],
      "execution_count": null,
      "outputs": []
    },
    {
      "cell_type": "code",
      "metadata": {
        "id": "Ikf3Nasgrqx_"
      },
      "source": [
        "!pip install oct2py"
      ],
      "execution_count": null,
      "outputs": []
    },
    {
      "cell_type": "code",
      "metadata": {
        "id": "UU5FFKgymZfw"
      },
      "source": [
        "from oct2py import octave"
      ],
      "execution_count": null,
      "outputs": []
    },
    {
      "cell_type": "code",
      "metadata": {
        "colab": {
          "base_uri": "https://localhost:8080/"
        },
        "id": "6XMlif4RsPNb",
        "outputId": "5e8dd036-bd5d-4070-9613-fab2057535d1"
      },
      "source": [
        "import math\n",
        "# math.sin(math.pi*(0:0.5:2))\n",
        "import numpy as np\n",
        "x = np.arange(0,2.5,0.5)\n",
        "x"
      ],
      "execution_count": null,
      "outputs": [
        {
          "output_type": "execute_result",
          "data": {
            "text/plain": [
              "array([0. , 0.5, 1. , 1.5, 2. ])"
            ]
          },
          "metadata": {
            "tags": []
          },
          "execution_count": 128
        }
      ]
    },
    {
      "cell_type": "code",
      "metadata": {
        "colab": {
          "base_uri": "https://localhost:8080/"
        },
        "id": "fIkZHwJOgy7n",
        "outputId": "9f9d4323-1e7f-4019-a19c-dc627527cae9"
      },
      "source": [
        "from math import pi as π\n",
        "from numpy import sin as sin\n",
        "# np.sin(np.degrees(π/3))\n",
        "# sin takes rad values\n",
        "z = sin(π*x)\n",
        "z"
      ],
      "execution_count": null,
      "outputs": [
        {
          "output_type": "execute_result",
          "data": {
            "text/plain": [
              "array([ 0.0000000e+00,  1.0000000e+00,  1.2246468e-16, -1.0000000e+00,\n",
              "       -2.4492936e-16])"
            ]
          },
          "metadata": {
            "tags": []
          },
          "execution_count": 123
        }
      ]
    },
    {
      "cell_type": "code",
      "metadata": {
        "colab": {
          "base_uri": "https://localhost:8080/",
          "height": 282
        },
        "id": "xjE5t2EF-WGG",
        "outputId": "b9013338-a8be-4f73-fb58-b9f511fa5129"
      },
      "source": [
        "# import matplotlib.pyplot as plt\n",
        "# plt.plot(x,z)"
      ],
      "execution_count": null,
      "outputs": [
        {
          "output_type": "execute_result",
          "data": {
            "text/plain": [
              "[<matplotlib.lines.Line2D at 0x7f0e2c481630>]"
            ]
          },
          "metadata": {
            "tags": []
          },
          "execution_count": 126
        },
        {
          "output_type": "display_data",
          "data": {
            "image/png": "[encoded data removed]",
            "text/plain": [
              "<Figure size 432x288 with 1 Axes>"
            ]
          },
          "metadata": {
            "tags": [],
            "needs_background": "light"
          }
        }
      ]
    }
  ]
}